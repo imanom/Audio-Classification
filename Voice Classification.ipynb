{
 "cells": [
  {
   "cell_type": "markdown",
   "metadata": {},
   "source": [
    "# Audio Classifier"
   ]
  },
  {
   "cell_type": "markdown",
   "metadata": {},
   "source": [
    "Speech Emotion Recognition (SER) is one of the most challenging tasks in speech signal analysis domain, it is a research area problem which tries to infer the emotion from the speech signals.\n",
    "\n",
    "This is my first step towards audio classification. \n",
    "I've currently only classified it into two groups - Neutral and Angry.\n",
    "The Dataset consists of my own voice recordings - 60 Neutral recordings and 50 Angry recordings - each of approx. 3 seconds.\n"
   ]
  },
  {
   "cell_type": "markdown",
   "metadata": {},
   "source": [
    "I have used CNN classifier for training the dataset.\n",
    "\n",
    "A convolutional neural network (CNN) is a class of deep neural networks, most commonly applied to analyzing visual imagery.\n",
    "CNNs have proven very effective in image classification and have shown promise for audio classification. "
   ]
  },
  {
   "cell_type": "markdown",
   "metadata": {},
   "source": [
    "# Data Processing"
   ]
  },
  {
   "cell_type": "markdown",
   "metadata": {},
   "source": [
    "Firstly, import the libraries you will need."
   ]
  },
  {
   "cell_type": "code",
   "execution_count": 4,
   "metadata": {},
   "outputs": [
    {
     "name": "stderr",
     "output_type": "stream",
     "text": [
      "Using TensorFlow backend.\n"
     ]
    }
   ],
   "source": [
    "import numpy as np\n",
    "import pandas as pd\n",
    "import random\n",
    "import itertools\n",
    "import librosa\n",
    "import IPython.display as ipd\n",
    "import matplotlib.pyplot as plt\n",
    "%matplotlib inline\n",
    "import tensorflow\n",
    "import keras\n",
    "import pickle #To store our model"
   ]
  },
  {
   "cell_type": "markdown",
   "metadata": {},
   "source": [
    "Then, load the audio data. \n",
    "\n",
    "I have two folders- one labeled neutral containing neutral audio files and another folder containing angry containing angry audio files."
   ]
  },
  {
   "cell_type": "code",
   "execution_count": 5,
   "metadata": {},
   "outputs": [],
   "source": [
    "import os\n",
    "path = 'Audio_data/'\n",
    "neutral= os.listdir(path+'neutral')\n",
    "angry= os.listdir(path+'angry')"
   ]
  },
  {
   "cell_type": "code",
   "execution_count": 6,
   "metadata": {},
   "outputs": [
    {
     "name": "stdout",
     "output_type": "stream",
     "text": [
      "60\n",
      "50\n"
     ]
    }
   ],
   "source": [
    "print(len(neutral))\n",
    "print(len(angry))"
   ]
  },
  {
   "cell_type": "code",
   "execution_count": 7,
   "metadata": {},
   "outputs": [
    {
     "data": {
      "text/plain": [
       "'Recording (47).wav'"
      ]
     },
     "execution_count": 7,
     "metadata": {},
     "output_type": "execute_result"
    }
   ],
   "source": [
    "angry[40]"
   ]
  },
  {
   "cell_type": "markdown",
   "metadata": {},
   "source": [
    "Store the labels of the files in an array."
   ]
  },
  {
   "cell_type": "code",
   "execution_count": 8,
   "metadata": {},
   "outputs": [],
   "source": [
    "emotions=[]\n",
    "for item in neutral:\n",
    "    emotions.append(\"neutral\")\n",
    "for item in angry:\n",
    "    emotions.append(\"angry\")"
   ]
  },
  {
   "cell_type": "code",
   "execution_count": 9,
   "metadata": {},
   "outputs": [
    {
     "data": {
      "text/html": [
       "<div>\n",
       "<style scoped>\n",
       "    .dataframe tbody tr th:only-of-type {\n",
       "        vertical-align: middle;\n",
       "    }\n",
       "\n",
       "    .dataframe tbody tr th {\n",
       "        vertical-align: top;\n",
       "    }\n",
       "\n",
       "    .dataframe thead th {\n",
       "        text-align: right;\n",
       "    }\n",
       "</style>\n",
       "<table border=\"1\" class=\"dataframe\">\n",
       "  <thead>\n",
       "    <tr style=\"text-align: right;\">\n",
       "      <th></th>\n",
       "      <th>-1</th>\n",
       "    </tr>\n",
       "  </thead>\n",
       "  <tbody>\n",
       "    <tr>\n",
       "      <th>55</th>\n",
       "      <td>neutral</td>\n",
       "    </tr>\n",
       "    <tr>\n",
       "      <th>56</th>\n",
       "      <td>neutral</td>\n",
       "    </tr>\n",
       "    <tr>\n",
       "      <th>57</th>\n",
       "      <td>neutral</td>\n",
       "    </tr>\n",
       "    <tr>\n",
       "      <th>58</th>\n",
       "      <td>neutral</td>\n",
       "    </tr>\n",
       "    <tr>\n",
       "      <th>59</th>\n",
       "      <td>neutral</td>\n",
       "    </tr>\n",
       "    <tr>\n",
       "      <th>60</th>\n",
       "      <td>angry</td>\n",
       "    </tr>\n",
       "    <tr>\n",
       "      <th>61</th>\n",
       "      <td>angry</td>\n",
       "    </tr>\n",
       "    <tr>\n",
       "      <th>62</th>\n",
       "      <td>angry</td>\n",
       "    </tr>\n",
       "    <tr>\n",
       "      <th>63</th>\n",
       "      <td>angry</td>\n",
       "    </tr>\n",
       "    <tr>\n",
       "      <th>64</th>\n",
       "      <td>angry</td>\n",
       "    </tr>\n",
       "  </tbody>\n",
       "</table>\n",
       "</div>"
      ],
      "text/plain": [
       "         -1\n",
       "55  neutral\n",
       "56  neutral\n",
       "57  neutral\n",
       "58  neutral\n",
       "59  neutral\n",
       "60    angry\n",
       "61    angry\n",
       "62    angry\n",
       "63    angry\n",
       "64    angry"
      ]
     },
     "execution_count": 9,
     "metadata": {},
     "output_type": "execute_result"
    }
   ],
   "source": [
    "labels = pd.DataFrame(emotions, columns=[-1])\n",
    "labels[55:65]"
   ]
  },
  {
   "cell_type": "markdown",
   "metadata": {},
   "source": [
    "Store both the neutral and angry files in one list."
   ]
  },
  {
   "cell_type": "code",
   "execution_count": 10,
   "metadata": {},
   "outputs": [
    {
     "data": {
      "text/plain": [
       "['56Label.wav',\n",
       " '57Label.wav',\n",
       " '58Label.wav',\n",
       " '59Label.wav',\n",
       " '60Label.wav',\n",
       " 'Recording (10).wav',\n",
       " 'Recording (11).wav',\n",
       " 'Recording (12).wav',\n",
       " 'Recording (13).wav',\n",
       " 'Recording (14).wav']"
      ]
     },
     "execution_count": 10,
     "metadata": {},
     "output_type": "execute_result"
    }
   ],
   "source": [
    "llist= neutral + angry\n",
    "llist[55:65]"
   ]
  },
  {
   "cell_type": "markdown",
   "metadata": {},
   "source": [
    "Load audio file from both neutral and angry samples, and observe the difference in amplitude between the two."
   ]
  },
  {
   "cell_type": "code",
   "execution_count": 11,
   "metadata": {},
   "outputs": [],
   "source": [
    "def load_audio_file(file_path):\n",
    "    data = librosa.core.load(file_path)[0] #, sr=16000\n",
    "    return data\n",
    "\n",
    "def plot_time_series(data):\n",
    "    fig = plt.figure(figsize=(14, 8))\n",
    "    plt.title('Raw wave ')\n",
    "    plt.ylabel('Amplitude')\n",
    "    plt.plot(np.linspace(0, 1, len(data)), data)\n",
    "    plt.show()"
   ]
  },
  {
   "cell_type": "code",
   "execution_count": 12,
   "metadata": {},
   "outputs": [
    {
     "data": {
      "image/png": "[encoded data removed]",
      "text/plain": [
       "<Figure size 1008x576 with 1 Axes>"
      ]
     },
     "metadata": {
      "needs_background": "light"
     },
     "output_type": "display_data"
    }
   ],
   "source": [
    "neutral_data = load_audio_file(path+\"neutral/01Label.wav\")\n",
    "plot_time_series(neutral_data)"
   ]
  },
  {
   "cell_type": "code",
   "execution_count": 13,
   "metadata": {},
   "outputs": [
    {
     "data": {
      "image/png": "[encoded data removed]",
      "text/plain": [
       "<Figure size 1008x576 with 1 Axes>"
      ]
     },
     "metadata": {
      "needs_background": "light"
     },
     "output_type": "display_data"
    }
   ],
   "source": [
    "angry_data = load_audio_file(path+\"angry/Recording (2).wav\")\n",
    "plot_time_series(angry_data)"
   ]
  },
  {
   "cell_type": "markdown",
   "metadata": {},
   "source": [
    "# Featurization"
   ]
  },
  {
   "cell_type": "markdown",
   "metadata": {},
   "source": [
    "Before going into pre-processing and data exploration we will explain some of the concepts that allowed us to select our features.\n",
    "\n",
    "1. Mel scale — deals with human perception of frequency, it is a scale of pitches judged by listeners to be equal distance from each other.\n",
    "\n",
    "2. Pitch — how high or low a sound is. It depends on frequency, higher pitch is high frequency.\n",
    "\n",
    "3. Frequency — speed of vibration of sound, measures wave cycles per second.\n",
    "\n",
    "4. Chroma — Representation for audio where spectrum is projected onto 12 bins representing the 12 distinct semitones (or chroma). Computed by summing the log frequency magnitude spectrum across octaves.\n",
    "\n",
    "5. Fourier Transforms — used to convert from time domain to frequency domain. Time domain shows how signal changes over time. \n",
    "\n",
    "Frequency domain shows how much of the signal lies within each given frequency band over a range of frequencies\n",
    "\n",
    "Using the signal extracted from the raw audio file and several of librosa’s audio processing functions, MFCCs were extracted using the following function:"
   ]
  },
  {
   "cell_type": "code",
   "execution_count": 14,
   "metadata": {},
   "outputs": [],
   "source": [
    "df = pd.DataFrame(columns=['feature'])\n",
    "i=0\n",
    "for index,y in enumerate(llist):\n",
    "    \n",
    "    #result=np.array([])\n",
    "    if index<60:\n",
    "        x, sample_rate = librosa.load(path+\"neutral/\"+y)\n",
    "        mfccs=np.mean(librosa.feature.mfcc(y=x, sr=sample_rate, n_mfcc=40).T, axis=0)\n",
    "    else:\n",
    "        x, sample_rate = librosa.load(path+\"angry/\"+y)\n",
    "        mfccs=np.mean(librosa.feature.mfcc(y=x, sr=sample_rate, n_mfcc=40).T, axis=0)\n",
    "    #result=np.hstack((result, mfccs))\n",
    "    \n",
    "    feature = mfccs\n",
    "    df.loc[i] = [feature]\n",
    "    \n",
    "    i=i+1"
   ]
  },
  {
   "cell_type": "code",
   "execution_count": 15,
   "metadata": {},
   "outputs": [
    {
     "data": {
      "text/html": [
       "<div>\n",
       "<style scoped>\n",
       "    .dataframe tbody tr th:only-of-type {\n",
       "        vertical-align: middle;\n",
       "    }\n",
       "\n",
       "    .dataframe tbody tr th {\n",
       "        vertical-align: top;\n",
       "    }\n",
       "\n",
       "    .dataframe thead th {\n",
       "        text-align: right;\n",
       "    }\n",
       "</style>\n",
       "<table border=\"1\" class=\"dataframe\">\n",
       "  <thead>\n",
       "    <tr style=\"text-align: right;\">\n",
       "      <th></th>\n",
       "      <th>feature</th>\n",
       "    </tr>\n",
       "  </thead>\n",
       "  <tbody>\n",
       "    <tr>\n",
       "      <th>0</th>\n",
       "      <td>[-448.93594, 101.5942, -13.21898, 24.87083, -1...</td>\n",
       "    </tr>\n",
       "    <tr>\n",
       "      <th>1</th>\n",
       "      <td>[-357.2153, 138.05338, -23.15337, 25.440516, -...</td>\n",
       "    </tr>\n",
       "    <tr>\n",
       "      <th>2</th>\n",
       "      <td>[-418.35165, 125.59138, -17.544325, 38.646175,...</td>\n",
       "    </tr>\n",
       "    <tr>\n",
       "      <th>3</th>\n",
       "      <td>[-373.03137, 128.58855, -16.243088, 36.37658, ...</td>\n",
       "    </tr>\n",
       "    <tr>\n",
       "      <th>4</th>\n",
       "      <td>[-383.41455, 137.28395, -17.908083, 32.095284,...</td>\n",
       "    </tr>\n",
       "  </tbody>\n",
       "</table>\n",
       "</div>"
      ],
      "text/plain": [
       "                                             feature\n",
       "0  [-448.93594, 101.5942, -13.21898, 24.87083, -1...\n",
       "1  [-357.2153, 138.05338, -23.15337, 25.440516, -...\n",
       "2  [-418.35165, 125.59138, -17.544325, 38.646175,...\n",
       "3  [-373.03137, 128.58855, -16.243088, 36.37658, ...\n",
       "4  [-383.41455, 137.28395, -17.908083, 32.095284,..."
      ]
     },
     "execution_count": 15,
     "metadata": {},
     "output_type": "execute_result"
    }
   ],
   "source": [
    "df[:5]"
   ]
  },
  {
   "cell_type": "code",
   "execution_count": 16,
   "metadata": {},
   "outputs": [
    {
     "data": {
      "text/html": [
       "<div>\n",
       "<style scoped>\n",
       "    .dataframe tbody tr th:only-of-type {\n",
       "        vertical-align: middle;\n",
       "    }\n",
       "\n",
       "    .dataframe tbody tr th {\n",
       "        vertical-align: top;\n",
       "    }\n",
       "\n",
       "    .dataframe thead th {\n",
       "        text-align: right;\n",
       "    }\n",
       "</style>\n",
       "<table border=\"1\" class=\"dataframe\">\n",
       "  <thead>\n",
       "    <tr style=\"text-align: right;\">\n",
       "      <th></th>\n",
       "      <th>0</th>\n",
       "      <th>1</th>\n",
       "      <th>2</th>\n",
       "      <th>3</th>\n",
       "      <th>4</th>\n",
       "      <th>5</th>\n",
       "      <th>6</th>\n",
       "      <th>7</th>\n",
       "      <th>8</th>\n",
       "      <th>9</th>\n",
       "      <th>...</th>\n",
       "      <th>30</th>\n",
       "      <th>31</th>\n",
       "      <th>32</th>\n",
       "      <th>33</th>\n",
       "      <th>34</th>\n",
       "      <th>35</th>\n",
       "      <th>36</th>\n",
       "      <th>37</th>\n",
       "      <th>38</th>\n",
       "      <th>39</th>\n",
       "    </tr>\n",
       "  </thead>\n",
       "  <tbody>\n",
       "    <tr>\n",
       "      <th>0</th>\n",
       "      <td>-448.935944</td>\n",
       "      <td>101.594200</td>\n",
       "      <td>-13.218980</td>\n",
       "      <td>24.870831</td>\n",
       "      <td>-10.412931</td>\n",
       "      <td>0.958163</td>\n",
       "      <td>-8.289434</td>\n",
       "      <td>-15.632518</td>\n",
       "      <td>-9.739482</td>\n",
       "      <td>-11.989474</td>\n",
       "      <td>...</td>\n",
       "      <td>6.072610</td>\n",
       "      <td>7.539416</td>\n",
       "      <td>3.254144</td>\n",
       "      <td>0.655576</td>\n",
       "      <td>-2.814597</td>\n",
       "      <td>-4.747623</td>\n",
       "      <td>-4.080068</td>\n",
       "      <td>-4.052931</td>\n",
       "      <td>-0.600274</td>\n",
       "      <td>0.719789</td>\n",
       "    </tr>\n",
       "    <tr>\n",
       "      <th>1</th>\n",
       "      <td>-357.215302</td>\n",
       "      <td>138.053375</td>\n",
       "      <td>-23.153370</td>\n",
       "      <td>25.440516</td>\n",
       "      <td>-11.194603</td>\n",
       "      <td>-1.034646</td>\n",
       "      <td>-2.831885</td>\n",
       "      <td>-20.411125</td>\n",
       "      <td>-13.683929</td>\n",
       "      <td>-16.207031</td>\n",
       "      <td>...</td>\n",
       "      <td>8.385799</td>\n",
       "      <td>11.160159</td>\n",
       "      <td>5.188492</td>\n",
       "      <td>4.785748</td>\n",
       "      <td>0.591885</td>\n",
       "      <td>-1.896215</td>\n",
       "      <td>0.699012</td>\n",
       "      <td>-2.337236</td>\n",
       "      <td>0.056494</td>\n",
       "      <td>1.191084</td>\n",
       "    </tr>\n",
       "    <tr>\n",
       "      <th>2</th>\n",
       "      <td>-418.351654</td>\n",
       "      <td>125.591377</td>\n",
       "      <td>-17.544325</td>\n",
       "      <td>38.646175</td>\n",
       "      <td>-4.480252</td>\n",
       "      <td>7.928045</td>\n",
       "      <td>-5.057821</td>\n",
       "      <td>-10.532663</td>\n",
       "      <td>-11.119750</td>\n",
       "      <td>-13.482015</td>\n",
       "      <td>...</td>\n",
       "      <td>2.213417</td>\n",
       "      <td>5.850023</td>\n",
       "      <td>6.457126</td>\n",
       "      <td>7.673837</td>\n",
       "      <td>1.465527</td>\n",
       "      <td>-2.682783</td>\n",
       "      <td>-1.291325</td>\n",
       "      <td>-1.296513</td>\n",
       "      <td>1.464910</td>\n",
       "      <td>3.240514</td>\n",
       "    </tr>\n",
       "    <tr>\n",
       "      <th>3</th>\n",
       "      <td>-373.031372</td>\n",
       "      <td>128.588547</td>\n",
       "      <td>-16.243088</td>\n",
       "      <td>36.376579</td>\n",
       "      <td>-16.060345</td>\n",
       "      <td>1.545921</td>\n",
       "      <td>-2.343774</td>\n",
       "      <td>-23.328745</td>\n",
       "      <td>-12.751724</td>\n",
       "      <td>-18.113068</td>\n",
       "      <td>...</td>\n",
       "      <td>7.594358</td>\n",
       "      <td>7.235886</td>\n",
       "      <td>1.880138</td>\n",
       "      <td>1.412255</td>\n",
       "      <td>-2.701203</td>\n",
       "      <td>-3.151090</td>\n",
       "      <td>0.672947</td>\n",
       "      <td>-2.699697</td>\n",
       "      <td>-0.530529</td>\n",
       "      <td>0.365696</td>\n",
       "    </tr>\n",
       "    <tr>\n",
       "      <th>4</th>\n",
       "      <td>-383.414551</td>\n",
       "      <td>137.283951</td>\n",
       "      <td>-17.908083</td>\n",
       "      <td>32.095284</td>\n",
       "      <td>-13.711784</td>\n",
       "      <td>1.742263</td>\n",
       "      <td>-6.980337</td>\n",
       "      <td>-13.876153</td>\n",
       "      <td>-12.353194</td>\n",
       "      <td>-13.632580</td>\n",
       "      <td>...</td>\n",
       "      <td>4.443307</td>\n",
       "      <td>8.645863</td>\n",
       "      <td>9.857705</td>\n",
       "      <td>9.512180</td>\n",
       "      <td>3.130873</td>\n",
       "      <td>-0.739501</td>\n",
       "      <td>-0.667346</td>\n",
       "      <td>-2.512430</td>\n",
       "      <td>-0.413006</td>\n",
       "      <td>1.577377</td>\n",
       "    </tr>\n",
       "  </tbody>\n",
       "</table>\n",
       "<p>5 rows × 40 columns</p>\n",
       "</div>"
      ],
      "text/plain": [
       "           0           1          2          3          4         5   \\\n",
       "0 -448.935944  101.594200 -13.218980  24.870831 -10.412931  0.958163   \n",
       "1 -357.215302  138.053375 -23.153370  25.440516 -11.194603 -1.034646   \n",
       "2 -418.351654  125.591377 -17.544325  38.646175  -4.480252  7.928045   \n",
       "3 -373.031372  128.588547 -16.243088  36.376579 -16.060345  1.545921   \n",
       "4 -383.414551  137.283951 -17.908083  32.095284 -13.711784  1.742263   \n",
       "\n",
       "         6          7          8          9   ...        30         31  \\\n",
       "0 -8.289434 -15.632518  -9.739482 -11.989474  ...  6.072610   7.539416   \n",
       "1 -2.831885 -20.411125 -13.683929 -16.207031  ...  8.385799  11.160159   \n",
       "2 -5.057821 -10.532663 -11.119750 -13.482015  ...  2.213417   5.850023   \n",
       "3 -2.343774 -23.328745 -12.751724 -18.113068  ...  7.594358   7.235886   \n",
       "4 -6.980337 -13.876153 -12.353194 -13.632580  ...  4.443307   8.645863   \n",
       "\n",
       "         32        33        34        35        36        37        38  \\\n",
       "0  3.254144  0.655576 -2.814597 -4.747623 -4.080068 -4.052931 -0.600274   \n",
       "1  5.188492  4.785748  0.591885 -1.896215  0.699012 -2.337236  0.056494   \n",
       "2  6.457126  7.673837  1.465527 -2.682783 -1.291325 -1.296513  1.464910   \n",
       "3  1.880138  1.412255 -2.701203 -3.151090  0.672947 -2.699697 -0.530529   \n",
       "4  9.857705  9.512180  3.130873 -0.739501 -0.667346 -2.512430 -0.413006   \n",
       "\n",
       "         39  \n",
       "0  0.719789  \n",
       "1  1.191084  \n",
       "2  3.240514  \n",
       "3  0.365696  \n",
       "4  1.577377  \n",
       "\n",
       "[5 rows x 40 columns]"
      ]
     },
     "execution_count": 16,
     "metadata": {},
     "output_type": "execute_result"
    }
   ],
   "source": [
    "df2 = pd.DataFrame(df['feature'].values.tolist())\n",
    "df2[:5]"
   ]
  },
  {
   "cell_type": "code",
   "execution_count": 17,
   "metadata": {},
   "outputs": [],
   "source": [
    "#df2 = pd.concat([df,labels], axis=1)\n",
    "df2[\"label\"] = emotions"
   ]
  },
  {
   "cell_type": "code",
   "execution_count": 18,
   "metadata": {},
   "outputs": [
    {
     "data": {
      "text/html": [
       "<div>\n",
       "<style scoped>\n",
       "    .dataframe tbody tr th:only-of-type {\n",
       "        vertical-align: middle;\n",
       "    }\n",
       "\n",
       "    .dataframe tbody tr th {\n",
       "        vertical-align: top;\n",
       "    }\n",
       "\n",
       "    .dataframe thead th {\n",
       "        text-align: right;\n",
       "    }\n",
       "</style>\n",
       "<table border=\"1\" class=\"dataframe\">\n",
       "  <thead>\n",
       "    <tr style=\"text-align: right;\">\n",
       "      <th></th>\n",
       "      <th>0</th>\n",
       "      <th>1</th>\n",
       "      <th>2</th>\n",
       "      <th>3</th>\n",
       "      <th>4</th>\n",
       "      <th>5</th>\n",
       "      <th>6</th>\n",
       "      <th>7</th>\n",
       "      <th>8</th>\n",
       "      <th>9</th>\n",
       "      <th>...</th>\n",
       "      <th>31</th>\n",
       "      <th>32</th>\n",
       "      <th>33</th>\n",
       "      <th>34</th>\n",
       "      <th>35</th>\n",
       "      <th>36</th>\n",
       "      <th>37</th>\n",
       "      <th>38</th>\n",
       "      <th>39</th>\n",
       "      <th>label</th>\n",
       "    </tr>\n",
       "  </thead>\n",
       "  <tbody>\n",
       "    <tr>\n",
       "      <th>55</th>\n",
       "      <td>-399.628601</td>\n",
       "      <td>137.101013</td>\n",
       "      <td>-5.588921</td>\n",
       "      <td>45.474609</td>\n",
       "      <td>-16.144604</td>\n",
       "      <td>11.538224</td>\n",
       "      <td>-10.503644</td>\n",
       "      <td>-11.006195</td>\n",
       "      <td>-15.982257</td>\n",
       "      <td>-9.835282</td>\n",
       "      <td>...</td>\n",
       "      <td>1.230685</td>\n",
       "      <td>6.449435</td>\n",
       "      <td>3.998499</td>\n",
       "      <td>3.095498</td>\n",
       "      <td>0.179710</td>\n",
       "      <td>1.524628</td>\n",
       "      <td>-1.672052</td>\n",
       "      <td>-2.958056</td>\n",
       "      <td>-1.030537</td>\n",
       "      <td>neutral</td>\n",
       "    </tr>\n",
       "    <tr>\n",
       "      <th>56</th>\n",
       "      <td>-408.381836</td>\n",
       "      <td>139.790924</td>\n",
       "      <td>-19.900515</td>\n",
       "      <td>39.882248</td>\n",
       "      <td>-9.796869</td>\n",
       "      <td>5.090791</td>\n",
       "      <td>-7.661403</td>\n",
       "      <td>-15.835160</td>\n",
       "      <td>-20.447500</td>\n",
       "      <td>-4.812745</td>\n",
       "      <td>...</td>\n",
       "      <td>0.045030</td>\n",
       "      <td>5.849525</td>\n",
       "      <td>5.625018</td>\n",
       "      <td>6.652701</td>\n",
       "      <td>5.264266</td>\n",
       "      <td>3.291679</td>\n",
       "      <td>-2.010066</td>\n",
       "      <td>-2.391327</td>\n",
       "      <td>-1.331069</td>\n",
       "      <td>neutral</td>\n",
       "    </tr>\n",
       "    <tr>\n",
       "      <th>57</th>\n",
       "      <td>-444.347748</td>\n",
       "      <td>155.122025</td>\n",
       "      <td>-12.306865</td>\n",
       "      <td>18.935593</td>\n",
       "      <td>-7.611145</td>\n",
       "      <td>5.635805</td>\n",
       "      <td>-5.130061</td>\n",
       "      <td>-19.659857</td>\n",
       "      <td>-18.904240</td>\n",
       "      <td>-9.102822</td>\n",
       "      <td>...</td>\n",
       "      <td>3.804492</td>\n",
       "      <td>8.464513</td>\n",
       "      <td>5.584928</td>\n",
       "      <td>2.973674</td>\n",
       "      <td>3.324432</td>\n",
       "      <td>0.175895</td>\n",
       "      <td>-0.419321</td>\n",
       "      <td>0.788151</td>\n",
       "      <td>-1.256381</td>\n",
       "      <td>neutral</td>\n",
       "    </tr>\n",
       "    <tr>\n",
       "      <th>58</th>\n",
       "      <td>-397.089172</td>\n",
       "      <td>147.094620</td>\n",
       "      <td>-9.171462</td>\n",
       "      <td>26.084063</td>\n",
       "      <td>-13.461006</td>\n",
       "      <td>-5.617195</td>\n",
       "      <td>-5.460781</td>\n",
       "      <td>-19.529018</td>\n",
       "      <td>-20.302889</td>\n",
       "      <td>-5.797530</td>\n",
       "      <td>...</td>\n",
       "      <td>-0.469785</td>\n",
       "      <td>4.101226</td>\n",
       "      <td>2.999230</td>\n",
       "      <td>2.025349</td>\n",
       "      <td>3.229267</td>\n",
       "      <td>3.440537</td>\n",
       "      <td>1.288544</td>\n",
       "      <td>0.415090</td>\n",
       "      <td>-3.604806</td>\n",
       "      <td>neutral</td>\n",
       "    </tr>\n",
       "    <tr>\n",
       "      <th>59</th>\n",
       "      <td>-397.893707</td>\n",
       "      <td>134.210281</td>\n",
       "      <td>-14.386139</td>\n",
       "      <td>30.589518</td>\n",
       "      <td>-3.577070</td>\n",
       "      <td>-0.783316</td>\n",
       "      <td>-11.494068</td>\n",
       "      <td>-22.579214</td>\n",
       "      <td>-20.588585</td>\n",
       "      <td>-11.359775</td>\n",
       "      <td>...</td>\n",
       "      <td>2.145973</td>\n",
       "      <td>6.343333</td>\n",
       "      <td>5.934462</td>\n",
       "      <td>4.258216</td>\n",
       "      <td>3.054111</td>\n",
       "      <td>2.245669</td>\n",
       "      <td>-0.185008</td>\n",
       "      <td>-0.305183</td>\n",
       "      <td>-1.933122</td>\n",
       "      <td>neutral</td>\n",
       "    </tr>\n",
       "    <tr>\n",
       "      <th>60</th>\n",
       "      <td>-327.584106</td>\n",
       "      <td>60.814465</td>\n",
       "      <td>-36.724922</td>\n",
       "      <td>19.577461</td>\n",
       "      <td>-20.739429</td>\n",
       "      <td>-5.700117</td>\n",
       "      <td>-11.761322</td>\n",
       "      <td>-12.779781</td>\n",
       "      <td>-9.713307</td>\n",
       "      <td>-13.175269</td>\n",
       "      <td>...</td>\n",
       "      <td>1.527775</td>\n",
       "      <td>2.157958</td>\n",
       "      <td>-1.997512</td>\n",
       "      <td>-1.794668</td>\n",
       "      <td>-0.446171</td>\n",
       "      <td>0.869378</td>\n",
       "      <td>-0.625757</td>\n",
       "      <td>0.652685</td>\n",
       "      <td>0.456708</td>\n",
       "      <td>angry</td>\n",
       "    </tr>\n",
       "    <tr>\n",
       "      <th>61</th>\n",
       "      <td>-405.187103</td>\n",
       "      <td>53.994473</td>\n",
       "      <td>-13.328820</td>\n",
       "      <td>8.773295</td>\n",
       "      <td>-18.180574</td>\n",
       "      <td>-6.109019</td>\n",
       "      <td>1.544408</td>\n",
       "      <td>-7.574718</td>\n",
       "      <td>-4.948618</td>\n",
       "      <td>-7.828671</td>\n",
       "      <td>...</td>\n",
       "      <td>-0.213934</td>\n",
       "      <td>-0.558622</td>\n",
       "      <td>-1.578952</td>\n",
       "      <td>0.007562</td>\n",
       "      <td>0.141408</td>\n",
       "      <td>-0.070312</td>\n",
       "      <td>-0.477016</td>\n",
       "      <td>0.468767</td>\n",
       "      <td>-0.291225</td>\n",
       "      <td>angry</td>\n",
       "    </tr>\n",
       "    <tr>\n",
       "      <th>62</th>\n",
       "      <td>-365.938629</td>\n",
       "      <td>64.622620</td>\n",
       "      <td>-28.369177</td>\n",
       "      <td>15.412011</td>\n",
       "      <td>-18.403856</td>\n",
       "      <td>-6.261985</td>\n",
       "      <td>1.278824</td>\n",
       "      <td>-13.030353</td>\n",
       "      <td>-9.223037</td>\n",
       "      <td>-10.667692</td>\n",
       "      <td>...</td>\n",
       "      <td>2.256596</td>\n",
       "      <td>3.651626</td>\n",
       "      <td>-1.007913</td>\n",
       "      <td>-1.274758</td>\n",
       "      <td>-2.189985</td>\n",
       "      <td>-0.320810</td>\n",
       "      <td>0.066562</td>\n",
       "      <td>-1.545228</td>\n",
       "      <td>0.335562</td>\n",
       "      <td>angry</td>\n",
       "    </tr>\n",
       "    <tr>\n",
       "      <th>63</th>\n",
       "      <td>-359.678802</td>\n",
       "      <td>66.621521</td>\n",
       "      <td>-24.135773</td>\n",
       "      <td>9.375669</td>\n",
       "      <td>-24.999622</td>\n",
       "      <td>1.726865</td>\n",
       "      <td>-1.662047</td>\n",
       "      <td>-7.379592</td>\n",
       "      <td>-9.616259</td>\n",
       "      <td>-8.081337</td>\n",
       "      <td>...</td>\n",
       "      <td>0.520685</td>\n",
       "      <td>2.009341</td>\n",
       "      <td>-1.343070</td>\n",
       "      <td>-0.174348</td>\n",
       "      <td>-1.352023</td>\n",
       "      <td>-2.308319</td>\n",
       "      <td>-0.676766</td>\n",
       "      <td>-0.493999</td>\n",
       "      <td>-0.164493</td>\n",
       "      <td>angry</td>\n",
       "    </tr>\n",
       "    <tr>\n",
       "      <th>64</th>\n",
       "      <td>-304.199524</td>\n",
       "      <td>75.410355</td>\n",
       "      <td>-53.235817</td>\n",
       "      <td>27.234280</td>\n",
       "      <td>-22.033459</td>\n",
       "      <td>-2.482414</td>\n",
       "      <td>-2.538193</td>\n",
       "      <td>-8.594347</td>\n",
       "      <td>-7.999066</td>\n",
       "      <td>-13.476399</td>\n",
       "      <td>...</td>\n",
       "      <td>0.385996</td>\n",
       "      <td>0.537240</td>\n",
       "      <td>-3.536498</td>\n",
       "      <td>-2.588716</td>\n",
       "      <td>-3.025516</td>\n",
       "      <td>-1.086459</td>\n",
       "      <td>0.035514</td>\n",
       "      <td>0.264445</td>\n",
       "      <td>-1.324015</td>\n",
       "      <td>angry</td>\n",
       "    </tr>\n",
       "  </tbody>\n",
       "</table>\n",
       "<p>10 rows × 41 columns</p>\n",
       "</div>"
      ],
      "text/plain": [
       "             0           1          2          3          4          5  \\\n",
       "55 -399.628601  137.101013  -5.588921  45.474609 -16.144604  11.538224   \n",
       "56 -408.381836  139.790924 -19.900515  39.882248  -9.796869   5.090791   \n",
       "57 -444.347748  155.122025 -12.306865  18.935593  -7.611145   5.635805   \n",
       "58 -397.089172  147.094620  -9.171462  26.084063 -13.461006  -5.617195   \n",
       "59 -397.893707  134.210281 -14.386139  30.589518  -3.577070  -0.783316   \n",
       "60 -327.584106   60.814465 -36.724922  19.577461 -20.739429  -5.700117   \n",
       "61 -405.187103   53.994473 -13.328820   8.773295 -18.180574  -6.109019   \n",
       "62 -365.938629   64.622620 -28.369177  15.412011 -18.403856  -6.261985   \n",
       "63 -359.678802   66.621521 -24.135773   9.375669 -24.999622   1.726865   \n",
       "64 -304.199524   75.410355 -53.235817  27.234280 -22.033459  -2.482414   \n",
       "\n",
       "            6          7          8          9  ...        31        32  \\\n",
       "55 -10.503644 -11.006195 -15.982257  -9.835282  ...  1.230685  6.449435   \n",
       "56  -7.661403 -15.835160 -20.447500  -4.812745  ...  0.045030  5.849525   \n",
       "57  -5.130061 -19.659857 -18.904240  -9.102822  ...  3.804492  8.464513   \n",
       "58  -5.460781 -19.529018 -20.302889  -5.797530  ... -0.469785  4.101226   \n",
       "59 -11.494068 -22.579214 -20.588585 -11.359775  ...  2.145973  6.343333   \n",
       "60 -11.761322 -12.779781  -9.713307 -13.175269  ...  1.527775  2.157958   \n",
       "61   1.544408  -7.574718  -4.948618  -7.828671  ... -0.213934 -0.558622   \n",
       "62   1.278824 -13.030353  -9.223037 -10.667692  ...  2.256596  3.651626   \n",
       "63  -1.662047  -7.379592  -9.616259  -8.081337  ...  0.520685  2.009341   \n",
       "64  -2.538193  -8.594347  -7.999066 -13.476399  ...  0.385996  0.537240   \n",
       "\n",
       "          33        34        35        36        37        38        39  \\\n",
       "55  3.998499  3.095498  0.179710  1.524628 -1.672052 -2.958056 -1.030537   \n",
       "56  5.625018  6.652701  5.264266  3.291679 -2.010066 -2.391327 -1.331069   \n",
       "57  5.584928  2.973674  3.324432  0.175895 -0.419321  0.788151 -1.256381   \n",
       "58  2.999230  2.025349  3.229267  3.440537  1.288544  0.415090 -3.604806   \n",
       "59  5.934462  4.258216  3.054111  2.245669 -0.185008 -0.305183 -1.933122   \n",
       "60 -1.997512 -1.794668 -0.446171  0.869378 -0.625757  0.652685  0.456708   \n",
       "61 -1.578952  0.007562  0.141408 -0.070312 -0.477016  0.468767 -0.291225   \n",
       "62 -1.007913 -1.274758 -2.189985 -0.320810  0.066562 -1.545228  0.335562   \n",
       "63 -1.343070 -0.174348 -1.352023 -2.308319 -0.676766 -0.493999 -0.164493   \n",
       "64 -3.536498 -2.588716 -3.025516 -1.086459  0.035514  0.264445 -1.324015   \n",
       "\n",
       "      label  \n",
       "55  neutral  \n",
       "56  neutral  \n",
       "57  neutral  \n",
       "58  neutral  \n",
       "59  neutral  \n",
       "60    angry  \n",
       "61    angry  \n",
       "62    angry  \n",
       "63    angry  \n",
       "64    angry  \n",
       "\n",
       "[10 rows x 41 columns]"
      ]
     },
     "execution_count": 18,
     "metadata": {},
     "output_type": "execute_result"
    }
   ],
   "source": [
    "df2[55:65]\n",
    "#len(df2)"
   ]
  },
  {
   "cell_type": "markdown",
   "metadata": {},
   "source": [
    "Splitting our dataset into two samples for training and testing our model."
   ]
  },
  {
   "cell_type": "code",
   "execution_count": 19,
   "metadata": {},
   "outputs": [
    {
     "name": "stdout",
     "output_type": "stream",
     "text": [
      "Training sample length:  90\n",
      "Testing sample length:  20\n"
     ]
    }
   ],
   "source": [
    "train = pd.concat([df2[:50],df2[60:100]])\n",
    "test = pd.concat([df2[50:60], df2[100:]])\n",
    "print(\"Training sample length: \",len(train))\n",
    "print(\"Testing sample length: \",len(test))"
   ]
  },
  {
   "cell_type": "code",
   "execution_count": 20,
   "metadata": {},
   "outputs": [
    {
     "data": {
      "text/html": [
       "<div>\n",
       "<style scoped>\n",
       "    .dataframe tbody tr th:only-of-type {\n",
       "        vertical-align: middle;\n",
       "    }\n",
       "\n",
       "    .dataframe tbody tr th {\n",
       "        vertical-align: top;\n",
       "    }\n",
       "\n",
       "    .dataframe thead th {\n",
       "        text-align: right;\n",
       "    }\n",
       "</style>\n",
       "<table border=\"1\" class=\"dataframe\">\n",
       "  <thead>\n",
       "    <tr style=\"text-align: right;\">\n",
       "      <th></th>\n",
       "      <th>0</th>\n",
       "      <th>1</th>\n",
       "      <th>2</th>\n",
       "      <th>3</th>\n",
       "      <th>4</th>\n",
       "      <th>5</th>\n",
       "      <th>6</th>\n",
       "      <th>7</th>\n",
       "      <th>8</th>\n",
       "      <th>9</th>\n",
       "      <th>...</th>\n",
       "      <th>31</th>\n",
       "      <th>32</th>\n",
       "      <th>33</th>\n",
       "      <th>34</th>\n",
       "      <th>35</th>\n",
       "      <th>36</th>\n",
       "      <th>37</th>\n",
       "      <th>38</th>\n",
       "      <th>39</th>\n",
       "      <th>label</th>\n",
       "    </tr>\n",
       "  </thead>\n",
       "  <tbody>\n",
       "    <tr>\n",
       "      <th>50</th>\n",
       "      <td>-437.329102</td>\n",
       "      <td>122.634315</td>\n",
       "      <td>-2.635107</td>\n",
       "      <td>32.740711</td>\n",
       "      <td>-8.193053</td>\n",
       "      <td>-2.061402</td>\n",
       "      <td>-10.371319</td>\n",
       "      <td>-15.083408</td>\n",
       "      <td>-17.209284</td>\n",
       "      <td>-8.141034</td>\n",
       "      <td>...</td>\n",
       "      <td>-1.000758</td>\n",
       "      <td>-1.111646</td>\n",
       "      <td>-1.019742</td>\n",
       "      <td>1.392953</td>\n",
       "      <td>1.192869</td>\n",
       "      <td>2.261923</td>\n",
       "      <td>-0.558715</td>\n",
       "      <td>-2.574625</td>\n",
       "      <td>-3.094502</td>\n",
       "      <td>neutral</td>\n",
       "    </tr>\n",
       "    <tr>\n",
       "      <th>51</th>\n",
       "      <td>-386.637604</td>\n",
       "      <td>162.491531</td>\n",
       "      <td>-5.990347</td>\n",
       "      <td>26.227709</td>\n",
       "      <td>-6.867142</td>\n",
       "      <td>6.135802</td>\n",
       "      <td>-6.918873</td>\n",
       "      <td>-11.308727</td>\n",
       "      <td>-9.923246</td>\n",
       "      <td>-12.481630</td>\n",
       "      <td>...</td>\n",
       "      <td>-0.794147</td>\n",
       "      <td>3.097692</td>\n",
       "      <td>0.776943</td>\n",
       "      <td>-3.319222</td>\n",
       "      <td>0.365969</td>\n",
       "      <td>0.559856</td>\n",
       "      <td>-0.605945</td>\n",
       "      <td>1.194798</td>\n",
       "      <td>-1.713943</td>\n",
       "      <td>neutral</td>\n",
       "    </tr>\n",
       "  </tbody>\n",
       "</table>\n",
       "<p>2 rows × 41 columns</p>\n",
       "</div>"
      ],
      "text/plain": [
       "             0           1         2          3         4         5  \\\n",
       "50 -437.329102  122.634315 -2.635107  32.740711 -8.193053 -2.061402   \n",
       "51 -386.637604  162.491531 -5.990347  26.227709 -6.867142  6.135802   \n",
       "\n",
       "            6          7          8          9  ...        31        32  \\\n",
       "50 -10.371319 -15.083408 -17.209284  -8.141034  ... -1.000758 -1.111646   \n",
       "51  -6.918873 -11.308727  -9.923246 -12.481630  ... -0.794147  3.097692   \n",
       "\n",
       "          33        34        35        36        37        38        39  \\\n",
       "50 -1.019742  1.392953  1.192869  2.261923 -0.558715 -2.574625 -3.094502   \n",
       "51  0.776943 -3.319222  0.365969  0.559856 -0.605945  1.194798 -1.713943   \n",
       "\n",
       "      label  \n",
       "50  neutral  \n",
       "51  neutral  \n",
       "\n",
       "[2 rows x 41 columns]"
      ]
     },
     "execution_count": 20,
     "metadata": {},
     "output_type": "execute_result"
    }
   ],
   "source": [
    "test[:2]"
   ]
  },
  {
   "cell_type": "markdown",
   "metadata": {},
   "source": [
    "Separating out the features and labels into X_train, X_test, y_train, y_test.\n",
    "\n",
    "And we also use LabelEncoder() function to convert our categorical labels into numbers - so, since we have only two categories - they will be converted into 0's and 1's respectively."
   ]
  },
  {
   "cell_type": "code",
   "execution_count": 21,
   "metadata": {},
   "outputs": [
    {
     "name": "stderr",
     "output_type": "stream",
     "text": [
      "F:\\anaconda3\\lib\\site-packages\\sklearn\\preprocessing\\_label.py:251: DataConversionWarning: A column-vector y was passed when a 1d array was expected. Please change the shape of y to (n_samples, ), for example using ravel().\n",
      "  y = column_or_1d(y, warn=True)\n"
     ]
    }
   ],
   "source": [
    "from sklearn.preprocessing import LabelEncoder\n",
    "from keras.utils import to_categorical\n",
    "\n",
    "X_train = np.array(train.iloc[:,:-1])\n",
    "X_test = np.array(test.iloc[:,:-1])\n",
    "\n",
    "y_train = np.array(train.iloc[:,-1:])\n",
    "y_test = np.array(test.iloc[:,-1:])\n",
    "\n",
    "le = LabelEncoder()\n",
    "y_train = to_categorical(le.fit_transform(y_train)) \n",
    "y_test = to_categorical(le.fit_transform(y_test)) "
   ]
  },
  {
   "cell_type": "code",
   "execution_count": 22,
   "metadata": {},
   "outputs": [
    {
     "name": "stdout",
     "output_type": "stream",
     "text": [
      "[+] Number of training samples: 90\n",
      "[+] Number of testing samples: 20\n",
      "[+] Number of features: 40\n"
     ]
    }
   ],
   "source": [
    "print(\"[+] Number of training samples:\", X_train.shape[0])\n",
    "\n",
    "print(\"[+] Number of testing samples:\", X_test.shape[0])\n",
    "\n",
    "print(\"[+] Number of features:\", X_train.shape[1])"
   ]
  },
  {
   "cell_type": "code",
   "execution_count": 23,
   "metadata": {},
   "outputs": [
    {
     "data": {
      "text/plain": [
       "2"
      ]
     },
     "execution_count": 23,
     "metadata": {},
     "output_type": "execute_result"
    }
   ],
   "source": [
    "y_train.shape[1]"
   ]
  },
  {
   "cell_type": "markdown",
   "metadata": {},
   "source": [
    "# Model Training"
   ]
  },
  {
   "cell_type": "markdown",
   "metadata": {},
   "source": [
    "Now, we will construct a Multilayer Perceptron (MLP) Neural Network using Keras and a Tensorflow backend.\n",
    "\n",
    "We start with a sequential model so we can build the model layer by layer.\n",
    "\n",
    "We will begin with a simple model architecture, consisting of three layers - an input layer, a hidden layer and an output layer. All three layers will be of the dense layer type which is a standard layer type that is used in many cases for neural networks.\n",
    "\n",
    "The first layer will receive the input shape. As each sample contains 40 MFCCs (or columns) we have a shape of (1x40) this means we will start with an input shape of 40.\n",
    "\n",
    "The first two layers will have 256 nodes. The activation function we will be using for our first 2 layers is the ReLU, or Rectified Linear Activation. This activation function has been proven to work well in neural networks.\n",
    "\n",
    "We will also apply a Dropout value of 50% on our first two layers. This will randomly exclude nodes from each update cycle which in turn results in a network that is capable of better generalisation and is less likely to overfit the training data.\n",
    "\n",
    "Our output layer will have 2 nodes (num_labels) which matches the number of possible classifications. The activation is for our output layer is softmax. Softmax makes the output sum up to 1 so the output can be interpreted as probabilities. The model will then make its prediction based on which option has the highest probability."
   ]
  },
  {
   "cell_type": "code",
   "execution_count": 24,
   "metadata": {},
   "outputs": [],
   "source": [
    "from keras.models import Sequential\n",
    "from keras.layers import Dense, Dropout, Activation, Flatten\n",
    "from keras.layers import Convolution2D, Conv2D, MaxPooling2D, GlobalAveragePooling2D\n",
    "from keras.optimizers import Adam\n",
    "from sklearn import metrics "
   ]
  },
  {
   "cell_type": "code",
   "execution_count": 25,
   "metadata": {},
   "outputs": [],
   "source": [
    "num_labels = y_train.shape[1]\n",
    "filter_size = 2\n",
    "\n",
    "model = Sequential()\n",
    "\n",
    "model.add(Dense(256, input_shape=(40,)))\n",
    "model.add(Activation('relu'))\n",
    "model.add(Dropout(0.5))\n",
    "\n",
    "model.add(Dense(256))\n",
    "model.add(Activation('relu'))\n",
    "model.add(Dropout(0.5))\n",
    "\n",
    "model.add(Dense(num_labels))\n",
    "model.add(Activation('softmax'))"
   ]
  },
  {
   "cell_type": "markdown",
   "metadata": {},
   "source": [
    "For compiling our model, we will use the following three parameters:\n",
    "\n",
    "1. Loss function - we will use categorical_crossentropy. This is the most common choice for classification. A lower score indicates that the model is performing better.\n",
    "\n",
    "2. Metrics - we will use the accuracy metric which will allow us to view the accuracy score on the validation data when we train the model.\n",
    "\n",
    "3. Optimizer - here we will use adam which is a generally good optimizer for many use cases."
   ]
  },
  {
   "cell_type": "code",
   "execution_count": 26,
   "metadata": {},
   "outputs": [],
   "source": [
    "# Compile the model\n",
    "model.compile(loss='categorical_crossentropy', metrics=['accuracy'], optimizer='adam')"
   ]
  },
  {
   "cell_type": "code",
   "execution_count": 27,
   "metadata": {},
   "outputs": [
    {
     "name": "stdout",
     "output_type": "stream",
     "text": [
      "Model: \"sequential_1\"\n",
      "_________________________________________________________________\n",
      "Layer (type)                 Output Shape              Param #   \n",
      "=================================================================\n",
      "dense_1 (Dense)              (None, 256)               10496     \n",
      "_________________________________________________________________\n",
      "activation_1 (Activation)    (None, 256)               0         \n",
      "_________________________________________________________________\n",
      "dropout_1 (Dropout)          (None, 256)               0         \n",
      "_________________________________________________________________\n",
      "dense_2 (Dense)              (None, 256)               65792     \n",
      "_________________________________________________________________\n",
      "activation_2 (Activation)    (None, 256)               0         \n",
      "_________________________________________________________________\n",
      "dropout_2 (Dropout)          (None, 256)               0         \n",
      "_________________________________________________________________\n",
      "dense_3 (Dense)              (None, 2)                 514       \n",
      "_________________________________________________________________\n",
      "activation_3 (Activation)    (None, 2)                 0         \n",
      "=================================================================\n",
      "Total params: 76,802\n",
      "Trainable params: 76,802\n",
      "Non-trainable params: 0\n",
      "_________________________________________________________________\n",
      "Pre-training accuracy: 45.0000%\n"
     ]
    }
   ],
   "source": [
    "# Display model architecture summary \n",
    "model.summary()\n",
    "\n",
    "# Calculate pre-training accuracy \n",
    "score = model.evaluate(X_test, y_test, verbose=0)\n",
    "accuracy = 100*score[1]\n",
    "\n",
    "print(\"Pre-training accuracy: %.4f%%\" % accuracy)"
   ]
  },
  {
   "cell_type": "markdown",
   "metadata": {},
   "source": [
    "Now, we will train the model.\n",
    "\n",
    "We will start with 100 epochs which is the number of times the model will cycle through the data. The model will improve on each cycle until it reaches a certain point.\n",
    "\n",
    "We will also start with a low batch size, as having a large batch size can reduce the generalisation ability of the model."
   ]
  },
  {
   "cell_type": "code",
   "execution_count": 28,
   "metadata": {},
   "outputs": [
    {
     "name": "stdout",
     "output_type": "stream",
     "text": [
      "Train on 90 samples, validate on 20 samples\n",
      "Epoch 1/100\n",
      "90/90 [==============================] - 0s 2ms/step - loss: 20.7437 - accuracy: 0.5111 - val_loss: 13.2353 - val_accuracy: 0.5000\n",
      "Epoch 2/100\n",
      "90/90 [==============================] - 0s 155us/step - loss: 16.3295 - accuracy: 0.5889 - val_loss: 8.8916 - val_accuracy: 0.5000\n",
      "Epoch 3/100\n",
      "90/90 [==============================] - 0s 166us/step - loss: 12.0621 - accuracy: 0.6333 - val_loss: 0.9102 - val_accuracy: 0.7000\n",
      "Epoch 4/100\n",
      "90/90 [==============================] - 0s 144us/step - loss: 11.9463 - accuracy: 0.5778 - val_loss: 0.0492 - val_accuracy: 0.9500\n",
      "Epoch 5/100\n",
      "90/90 [==============================] - 0s 188us/step - loss: 9.5889 - accuracy: 0.6222 - val_loss: 1.9113 - val_accuracy: 0.7000\n",
      "Epoch 6/100\n",
      "90/90 [==============================] - 0s 188us/step - loss: 6.2960 - accuracy: 0.7000 - val_loss: 1.6323 - val_accuracy: 0.7500\n",
      "Epoch 7/100\n",
      "90/90 [==============================] - 0s 199us/step - loss: 8.6739 - accuracy: 0.6000 - val_loss: 1.3628 - val_accuracy: 0.8500\n",
      "Epoch 8/100\n",
      "90/90 [==============================] - 0s 166us/step - loss: 6.0995 - accuracy: 0.7000 - val_loss: 1.4629 - val_accuracy: 0.8500\n",
      "Epoch 9/100\n",
      "90/90 [==============================] - 0s 211us/step - loss: 7.4626 - accuracy: 0.6778 - val_loss: 1.2875 - val_accuracy: 0.8500\n",
      "Epoch 10/100\n",
      "90/90 [==============================] - 0s 199us/step - loss: 4.7473 - accuracy: 0.7778 - val_loss: 0.8882 - val_accuracy: 0.9500\n",
      "Epoch 11/100\n",
      "90/90 [==============================] - 0s 210us/step - loss: 4.1442 - accuracy: 0.7889 - val_loss: 0.9963 - val_accuracy: 0.9500\n",
      "Epoch 12/100\n",
      "90/90 [==============================] - 0s 155us/step - loss: 4.2468 - accuracy: 0.7556 - val_loss: 0.8138 - val_accuracy: 0.9500\n",
      "Epoch 13/100\n",
      "90/90 [==============================] - 0s 222us/step - loss: 3.8036 - accuracy: 0.7889 - val_loss: 0.3293 - val_accuracy: 0.9500\n",
      "Epoch 14/100\n",
      "90/90 [==============================] - 0s 200us/step - loss: 1.5508 - accuracy: 0.9111 - val_loss: 0.0177 - val_accuracy: 1.0000\n",
      "Epoch 15/100\n",
      "90/90 [==============================] - 0s 211us/step - loss: 3.2346 - accuracy: 0.8556 - val_loss: 0.0131 - val_accuracy: 1.0000\n",
      "Epoch 16/100\n",
      "90/90 [==============================] - 0s 177us/step - loss: 1.8149 - accuracy: 0.9111 - val_loss: 0.2534 - val_accuracy: 0.9500\n",
      "Epoch 17/100\n",
      "90/90 [==============================] - 0s 233us/step - loss: 1.9809 - accuracy: 0.8778 - val_loss: 0.6724 - val_accuracy: 0.9500\n",
      "Epoch 18/100\n",
      "90/90 [==============================] - 0s 177us/step - loss: 1.3508 - accuracy: 0.9111 - val_loss: 0.9995 - val_accuracy: 0.9500\n",
      "Epoch 19/100\n",
      "90/90 [==============================] - 0s 199us/step - loss: 2.2563 - accuracy: 0.8778 - val_loss: 1.0541 - val_accuracy: 0.9500\n",
      "Epoch 20/100\n",
      "90/90 [==============================] - 0s 199us/step - loss: 1.5675 - accuracy: 0.8778 - val_loss: 0.6120 - val_accuracy: 0.9500\n",
      "Epoch 21/100\n",
      "90/90 [==============================] - 0s 166us/step - loss: 1.3311 - accuracy: 0.8222 - val_loss: 0.2408 - val_accuracy: 0.9500\n",
      "Epoch 22/100\n",
      "90/90 [==============================] - 0s 177us/step - loss: 1.4838 - accuracy: 0.8667 - val_loss: 0.0477 - val_accuracy: 0.9500\n",
      "Epoch 23/100\n",
      "90/90 [==============================] - 0s 177us/step - loss: 2.8356 - accuracy: 0.8889 - val_loss: 0.0434 - val_accuracy: 0.9500\n",
      "Epoch 24/100\n",
      "90/90 [==============================] - 0s 177us/step - loss: 0.7888 - accuracy: 0.9333 - val_loss: 0.1372 - val_accuracy: 0.9500\n",
      "Epoch 25/100\n",
      "90/90 [==============================] - 0s 155us/step - loss: 1.1174 - accuracy: 0.8778 - val_loss: 0.3283 - val_accuracy: 0.9500\n",
      "Epoch 26/100\n",
      "90/90 [==============================] - 0s 211us/step - loss: 0.4080 - accuracy: 0.9556 - val_loss: 0.4396 - val_accuracy: 0.9500\n",
      "Epoch 27/100\n",
      "90/90 [==============================] - 0s 188us/step - loss: 0.8530 - accuracy: 0.9333 - val_loss: 0.4156 - val_accuracy: 0.9500\n",
      "Epoch 28/100\n",
      "90/90 [==============================] - 0s 155us/step - loss: 1.0269 - accuracy: 0.9111 - val_loss: 0.2472 - val_accuracy: 0.9500\n",
      "Epoch 29/100\n",
      "90/90 [==============================] - 0s 211us/step - loss: 1.4778 - accuracy: 0.9444 - val_loss: 0.0354 - val_accuracy: 0.9500\n",
      "Epoch 30/100\n",
      "90/90 [==============================] - 0s 177us/step - loss: 0.2553 - accuracy: 0.9556 - val_loss: 0.0058 - val_accuracy: 1.0000\n",
      "Epoch 31/100\n",
      "90/90 [==============================] - 0s 155us/step - loss: 0.9791 - accuracy: 0.9222 - val_loss: 0.0023 - val_accuracy: 1.0000\n",
      "Epoch 32/100\n",
      "90/90 [==============================] - 0s 199us/step - loss: 0.9215 - accuracy: 0.9444 - val_loss: 0.0127 - val_accuracy: 1.0000\n",
      "Epoch 33/100\n",
      "90/90 [==============================] - 0s 233us/step - loss: 0.4198 - accuracy: 0.9333 - val_loss: 0.0693 - val_accuracy: 0.9500\n",
      "Epoch 34/100\n",
      "90/90 [==============================] - 0s 266us/step - loss: 0.3989 - accuracy: 0.9778 - val_loss: 0.0567 - val_accuracy: 0.9500\n",
      "Epoch 35/100\n",
      "90/90 [==============================] - 0s 166us/step - loss: 1.2161 - accuracy: 0.9333 - val_loss: 0.0779 - val_accuracy: 0.9500\n",
      "Epoch 36/100\n",
      "90/90 [==============================] - 0s 199us/step - loss: 0.4742 - accuracy: 0.9111 - val_loss: 0.1250 - val_accuracy: 0.9500\n",
      "Epoch 37/100\n",
      "90/90 [==============================] - 0s 133us/step - loss: 1.1825 - accuracy: 0.9222 - val_loss: 0.0782 - val_accuracy: 0.9500\n",
      "Epoch 38/100\n",
      "90/90 [==============================] - 0s 144us/step - loss: 0.4826 - accuracy: 0.9556 - val_loss: 0.0051 - val_accuracy: 1.0000\n",
      "Epoch 39/100\n",
      "90/90 [==============================] - 0s 166us/step - loss: 0.6496 - accuracy: 0.9667 - val_loss: 8.8690e-05 - val_accuracy: 1.0000\n",
      "Epoch 40/100\n",
      "90/90 [==============================] - 0s 321us/step - loss: 0.5031 - accuracy: 0.9667 - val_loss: 1.0954e-05 - val_accuracy: 1.0000\n",
      "Epoch 41/100\n",
      "90/90 [==============================] - 0s 321us/step - loss: 0.9031 - accuracy: 0.9556 - val_loss: 4.1456e-05 - val_accuracy: 1.0000\n",
      "Epoch 42/100\n",
      "90/90 [==============================] - 0s 222us/step - loss: 0.2903 - accuracy: 0.9778 - val_loss: 0.0012 - val_accuracy: 1.0000\n",
      "Epoch 43/100\n",
      "90/90 [==============================] - 0s 199us/step - loss: 0.6984 - accuracy: 0.9444 - val_loss: 0.0991 - val_accuracy: 0.9500\n",
      "Epoch 44/100\n",
      "90/90 [==============================] - 0s 177us/step - loss: 0.6598 - accuracy: 0.9222 - val_loss: 0.2108 - val_accuracy: 0.9500\n",
      "Epoch 45/100\n",
      "90/90 [==============================] - 0s 244us/step - loss: 0.1119 - accuracy: 0.9778 - val_loss: 0.1146 - val_accuracy: 0.9500\n",
      "Epoch 46/100\n",
      "90/90 [==============================] - 0s 177us/step - loss: 0.2659 - accuracy: 0.9444 - val_loss: 0.0794 - val_accuracy: 0.9500\n",
      "Epoch 47/100\n",
      "90/90 [==============================] - 0s 155us/step - loss: 0.3791 - accuracy: 0.9556 - val_loss: 0.0357 - val_accuracy: 0.9500\n",
      "Epoch 48/100\n",
      "90/90 [==============================] - 0s 199us/step - loss: 0.5577 - accuracy: 0.9556 - val_loss: 0.0022 - val_accuracy: 1.0000\n",
      "Epoch 49/100\n",
      "90/90 [==============================] - 0s 155us/step - loss: 0.1996 - accuracy: 0.9889 - val_loss: 0.0020 - val_accuracy: 1.0000\n",
      "Epoch 50/100\n",
      "90/90 [==============================] - 0s 188us/step - loss: 0.2122 - accuracy: 0.9667 - val_loss: 0.0182 - val_accuracy: 1.0000\n",
      "Epoch 51/100\n",
      "90/90 [==============================] - 0s 211us/step - loss: 0.3097 - accuracy: 0.9444 - val_loss: 0.0116 - val_accuracy: 1.0000\n",
      "Epoch 52/100\n",
      "90/90 [==============================] - 0s 166us/step - loss: 0.0865 - accuracy: 0.9778 - val_loss: 0.0043 - val_accuracy: 1.0000\n",
      "Epoch 53/100\n",
      "90/90 [==============================] - 0s 155us/step - loss: 0.0968 - accuracy: 0.9667 - val_loss: 0.0014 - val_accuracy: 1.0000\n",
      "Epoch 54/100\n",
      "90/90 [==============================] - 0s 155us/step - loss: 0.0490 - accuracy: 0.9889 - val_loss: 6.9237e-04 - val_accuracy: 1.0000\n",
      "Epoch 55/100\n",
      "90/90 [==============================] - 0s 188us/step - loss: 0.0911 - accuracy: 0.9778 - val_loss: 6.0065e-04 - val_accuracy: 1.0000\n",
      "Epoch 56/100\n",
      "90/90 [==============================] - 0s 188us/step - loss: 1.9632e-04 - accuracy: 1.0000 - val_loss: 3.0851e-04 - val_accuracy: 1.0000\n",
      "Epoch 57/100\n"
     ]
    },
    {
     "name": "stdout",
     "output_type": "stream",
     "text": [
      "90/90 [==============================] - 0s 155us/step - loss: 0.3255 - accuracy: 0.9556 - val_loss: 1.0879e-04 - val_accuracy: 1.0000\n",
      "Epoch 58/100\n",
      "90/90 [==============================] - 0s 144us/step - loss: 0.3826 - accuracy: 0.9889 - val_loss: 7.6164e-05 - val_accuracy: 1.0000\n",
      "Epoch 59/100\n",
      "90/90 [==============================] - 0s 144us/step - loss: 0.1900 - accuracy: 0.9889 - val_loss: 5.9599e-05 - val_accuracy: 1.0000\n",
      "Epoch 60/100\n",
      "90/90 [==============================] - 0s 166us/step - loss: 0.3265 - accuracy: 0.9778 - val_loss: 7.3921e-05 - val_accuracy: 1.0000\n",
      "Epoch 61/100\n",
      "90/90 [==============================] - 0s 155us/step - loss: 8.1239e-04 - accuracy: 1.0000 - val_loss: 6.4904e-04 - val_accuracy: 1.0000\n",
      "Epoch 62/100\n",
      "90/90 [==============================] - 0s 177us/step - loss: 7.1852e-04 - accuracy: 1.0000 - val_loss: 0.0030 - val_accuracy: 1.0000\n",
      "Epoch 63/100\n",
      "90/90 [==============================] - 0s 177us/step - loss: 0.0717 - accuracy: 0.9889 - val_loss: 0.0037 - val_accuracy: 1.0000\n",
      "Epoch 64/100\n",
      "90/90 [==============================] - 0s 166us/step - loss: 0.2453 - accuracy: 0.9667 - val_loss: 3.8667e-04 - val_accuracy: 1.0000\n",
      "Epoch 65/100\n",
      "90/90 [==============================] - 0s 166us/step - loss: 0.1915 - accuracy: 0.9778 - val_loss: 3.9955e-05 - val_accuracy: 1.0000\n",
      "Epoch 66/100\n",
      "90/90 [==============================] - 0s 166us/step - loss: 0.4613 - accuracy: 0.9556 - val_loss: 4.6549e-06 - val_accuracy: 1.0000\n",
      "Epoch 67/100\n",
      "90/90 [==============================] - 0s 166us/step - loss: 0.0027 - accuracy: 1.0000 - val_loss: 7.0333e-07 - val_accuracy: 1.0000\n",
      "Epoch 68/100\n",
      "90/90 [==============================] - 0s 155us/step - loss: 0.1631 - accuracy: 0.9778 - val_loss: 2.8014e-07 - val_accuracy: 1.0000\n",
      "Epoch 69/100\n",
      "90/90 [==============================] - 0s 166us/step - loss: 0.4926 - accuracy: 0.9667 - val_loss: 3.3378e-07 - val_accuracy: 1.0000\n",
      "Epoch 70/100\n",
      "90/90 [==============================] - 0s 166us/step - loss: 1.0138 - accuracy: 0.9222 - val_loss: 4.6430e-06 - val_accuracy: 1.0000\n",
      "Epoch 71/100\n",
      "90/90 [==============================] - 0s 177us/step - loss: 0.0124 - accuracy: 0.9889 - val_loss: 1.7914e-05 - val_accuracy: 1.0000\n",
      "Epoch 72/100\n",
      "90/90 [==============================] - 0s 166us/step - loss: 0.0552 - accuracy: 0.9889 - val_loss: 2.3628e-05 - val_accuracy: 1.0000\n",
      "Epoch 73/100\n",
      "90/90 [==============================] - 0s 144us/step - loss: 0.1723 - accuracy: 0.9778 - val_loss: 3.3171e-05 - val_accuracy: 1.0000\n",
      "Epoch 74/100\n",
      "90/90 [==============================] - 0s 155us/step - loss: 0.0666 - accuracy: 0.9778 - val_loss: 1.4684e-05 - val_accuracy: 1.0000\n",
      "Epoch 75/100\n",
      "90/90 [==============================] - 0s 155us/step - loss: 5.9624e-05 - accuracy: 1.0000 - val_loss: 2.0086e-06 - val_accuracy: 1.0000\n",
      "Epoch 76/100\n",
      "90/90 [==============================] - 0s 155us/step - loss: 0.0570 - accuracy: 0.9778 - val_loss: 5.6624e-07 - val_accuracy: 1.0000\n",
      "Epoch 77/100\n",
      "90/90 [==============================] - 0s 155us/step - loss: 0.3147 - accuracy: 0.9667 - val_loss: 2.2054e-07 - val_accuracy: 1.0000\n",
      "Epoch 78/100\n",
      "90/90 [==============================] - ETA: 0s - loss: 1.1521e-05 - accuracy: 1.00 - 0s 177us/step - loss: 0.3134 - accuracy: 0.9889 - val_loss: 1.1325e-07 - val_accuracy: 1.0000\n",
      "Epoch 79/100\n",
      "90/90 [==============================] - 0s 166us/step - loss: 0.0264 - accuracy: 0.9889 - val_loss: 1.6689e-07 - val_accuracy: 1.0000\n",
      "Epoch 80/100\n",
      "90/90 [==============================] - 0s 155us/step - loss: 0.0929 - accuracy: 0.9778 - val_loss: 2.5629e-06 - val_accuracy: 1.0000\n",
      "Epoch 81/100\n",
      "90/90 [==============================] - 0s 177us/step - loss: 0.2072 - accuracy: 0.9778 - val_loss: 1.0179e-05 - val_accuracy: 1.0000\n",
      "Epoch 82/100\n",
      "90/90 [==============================] - 0s 233us/step - loss: 0.0460 - accuracy: 0.9778 - val_loss: 1.7187e-05 - val_accuracy: 1.0000\n",
      "Epoch 83/100\n",
      "90/90 [==============================] - 0s 211us/step - loss: 0.0385 - accuracy: 0.9778 - val_loss: 2.1799e-05 - val_accuracy: 1.0000\n",
      "Epoch 84/100\n",
      "90/90 [==============================] - 0s 255us/step - loss: 0.0024 - accuracy: 1.0000 - val_loss: 1.2509e-05 - val_accuracy: 1.0000\n",
      "Epoch 85/100\n",
      "90/90 [==============================] - 0s 222us/step - loss: 0.1266 - accuracy: 0.9778 - val_loss: 4.7310e-05 - val_accuracy: 1.0000\n",
      "Epoch 86/100\n",
      "90/90 [==============================] - 0s 211us/step - loss: 2.7382e-04 - accuracy: 1.0000 - val_loss: 2.3261e-04 - val_accuracy: 1.0000\n",
      "Epoch 87/100\n",
      "90/90 [==============================] - 0s 211us/step - loss: 0.0954 - accuracy: 0.9889 - val_loss: 4.3148e-04 - val_accuracy: 1.0000\n",
      "Epoch 88/100\n",
      "90/90 [==============================] - 0s 199us/step - loss: 0.2959 - accuracy: 0.9667 - val_loss: 9.8477e-05 - val_accuracy: 1.0000\n",
      "Epoch 89/100\n",
      "90/90 [==============================] - 0s 188us/step - loss: 0.0645 - accuracy: 0.9889 - val_loss: 9.6193e-06 - val_accuracy: 1.0000\n",
      "Epoch 90/100\n",
      "90/90 [==============================] - 0s 233us/step - loss: 0.0214 - accuracy: 0.9889 - val_loss: 5.4178e-06 - val_accuracy: 1.0000\n",
      "Epoch 91/100\n",
      "90/90 [==============================] - 0s 155us/step - loss: 0.1161 - accuracy: 0.9889 - val_loss: 5.7396e-06 - val_accuracy: 1.0000\n",
      "Epoch 92/100\n",
      "90/90 [==============================] - 0s 188us/step - loss: 0.1379 - accuracy: 0.9889 - val_loss: 4.9827e-06 - val_accuracy: 1.0000\n",
      "Epoch 93/100\n",
      "90/90 [==============================] - 0s 177us/step - loss: 7.3351e-04 - accuracy: 1.0000 - val_loss: 4.6847e-06 - val_accuracy: 1.0000\n",
      "Epoch 94/100\n",
      "90/90 [==============================] - 0s 255us/step - loss: 4.5968e-06 - accuracy: 1.0000 - val_loss: 4.5297e-06 - val_accuracy: 1.0000\n",
      "Epoch 95/100\n",
      "90/90 [==============================] - 0s 177us/step - loss: 0.2983 - accuracy: 0.9778 - val_loss: 6.2104e-06 - val_accuracy: 1.0000\n",
      "Epoch 96/100\n",
      "90/90 [==============================] - 0s 188us/step - loss: 3.8897e-04 - accuracy: 1.0000 - val_loss: 3.8682e-06 - val_accuracy: 1.0000\n",
      "Epoch 97/100\n",
      "90/90 [==============================] - 0s 166us/step - loss: 0.0163 - accuracy: 0.9889 - val_loss: 1.2517e-06 - val_accuracy: 1.0000\n",
      "Epoch 98/100\n",
      "90/90 [==============================] - 0s 188us/step - loss: 0.0144 - accuracy: 0.9889 - val_loss: 2.0862e-07 - val_accuracy: 1.0000\n",
      "Epoch 99/100\n",
      "90/90 [==============================] - 0s 211us/step - loss: 0.0408 - accuracy: 0.9889 - val_loss: 3.6955e-07 - val_accuracy: 1.0000\n",
      "Epoch 100/100\n",
      "90/90 [==============================] - 0s 188us/step - loss: 3.3779e-05 - accuracy: 1.0000 - val_loss: 5.5432e-07 - val_accuracy: 1.0000\n",
      "Training completed in time:  0:00:02.784557\n"
     ]
    }
   ],
   "source": [
    "from datetime import datetime \n",
    "\n",
    "num_epochs = 100\n",
    "num_batch_size = 32\n",
    "start = datetime.now()\n",
    "\n",
    "model.fit(X_train, y_train, batch_size=num_batch_size, epochs=num_epochs, validation_data=(X_test, y_test))\n",
    "\n",
    "\n",
    "duration = datetime.now() - start\n",
    "print(\"Training completed in time: \", duration)"
   ]
  },
  {
   "cell_type": "code",
   "execution_count": 29,
   "metadata": {},
   "outputs": [
    {
     "name": "stdout",
     "output_type": "stream",
     "text": [
      "Training Accuracy:  1.0\n",
      "Testing Accuracy:  1.0\n"
     ]
    }
   ],
   "source": [
    "# Evaluating the model on the training and testing set\n",
    "score = model.evaluate(X_train, y_train, verbose=0)\n",
    "print(\"Training Accuracy: \", score[1])\n",
    "\n",
    "score = model.evaluate(X_test, y_test, verbose=0)\n",
    "print(\"Testing Accuracy: \", score[1])"
   ]
  },
  {
   "cell_type": "markdown",
   "metadata": {},
   "source": [
    "We will store our model in a pickle file, so we don't have to keep training it again and again while testing."
   ]
  },
  {
   "cell_type": "code",
   "execution_count": 30,
   "metadata": {},
   "outputs": [],
   "source": [
    "if not os.path.isdir(\"result\"):\n",
    "    os.mkdir(\"result\")\n",
    "\n",
    "pickle.dump(model, open(\"result/mlp_classifier.model\", \"wb\"))"
   ]
  },
  {
   "cell_type": "code",
   "execution_count": 31,
   "metadata": {},
   "outputs": [],
   "source": [
    "modelfile = 'result/mlp_classifier.model'\n",
    "model = pickle.load(open(modelfile, 'rb'))"
   ]
  },
  {
   "cell_type": "markdown",
   "metadata": {},
   "source": [
    "# Testing"
   ]
  },
  {
   "cell_type": "code",
   "execution_count": 32,
   "metadata": {},
   "outputs": [],
   "source": [
    "def extract_feature(file_name):\n",
    "   \n",
    "    try:\n",
    "        audio_data, sample_rate = librosa.load(file_name, res_type='kaiser_fast') \n",
    "        mfccs = librosa.feature.mfcc(y=audio_data, sr=sample_rate, n_mfcc=40)\n",
    "        mfccsscaled = np.mean(mfccs.T,axis=0)\n",
    "        \n",
    "    except Exception as e:\n",
    "        print(\"Error encountered while parsing file: \", file)\n",
    "        return None, None\n",
    "\n",
    "    return np.array([mfccsscaled])"
   ]
  },
  {
   "cell_type": "code",
   "execution_count": 33,
   "metadata": {},
   "outputs": [],
   "source": [
    "def print_prediction(file_name):\n",
    "    prediction_feature = extract_feature(file_name) \n",
    "\n",
    "    predicted_vector = model.predict_classes(prediction_feature)\n",
    "    predicted_class = le.inverse_transform(predicted_vector) \n",
    "    print(\"The predicted class is:\", predicted_class[0], '\\n') \n",
    "\n",
    "    predicted_proba_vector = model.predict_proba(prediction_feature) \n",
    "    predicted_proba = predicted_proba_vector[0]\n",
    "    for i in range(len(predicted_proba)): \n",
    "        category = le.inverse_transform(np.array([i]))\n",
    "        print(category[0], \"\\t\\t : \", format(predicted_proba[i], '.32f') )"
   ]
  },
  {
   "cell_type": "code",
   "execution_count": 34,
   "metadata": {},
   "outputs": [
    {
     "name": "stdout",
     "output_type": "stream",
     "text": [
      "The predicted class is: angry \n",
      "\n",
      "angry \t\t :  1.00000000000000000000000000000000\n",
      "neutral \t\t :  0.00000000000111037708975386673060\n"
     ]
    }
   ],
   "source": [
    "filename = path+'test/angry_1.wav' \n",
    "print_prediction(filename)"
   ]
  },
  {
   "cell_type": "code",
   "execution_count": 36,
   "metadata": {},
   "outputs": [
    {
     "name": "stdout",
     "output_type": "stream",
     "text": [
      "The predicted class is: neutral \n",
      "\n",
      "angry \t\t :  0.00000000000000000374090198639453\n",
      "neutral \t\t :  1.00000000000000000000000000000000\n"
     ]
    }
   ],
   "source": [
    "filename = path+'test/neutral_1.wav' \n",
    "print_prediction(filename)"
   ]
  },
  {
   "cell_type": "markdown",
   "metadata": {},
   "source": [
    "As we can see, our test audio samples have been successfully classified into neutral and angry."
   ]
  },
  {
   "cell_type": "code",
   "execution_count": null,
   "metadata": {},
   "outputs": [],
   "source": []
  }
 ],
 "metadata": {
  "kernelspec": {
   "display_name": "Python 3",
   "language": "python",
   "name": "python3"
  },
  "language_info": {
   "codemirror_mode": {
    "name": "ipython",
    "version": 3
   },
   "file_extension": ".py",
   "mimetype": "text/x-python",
   "name": "python",
   "nbconvert_exporter": "python",
   "pygments_lexer": "ipython3",
   "version": "3.7.6"
  }
 },
 "nbformat": 4,
 "nbformat_minor": 4
}
